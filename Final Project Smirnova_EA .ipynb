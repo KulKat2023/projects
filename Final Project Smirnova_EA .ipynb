{
 "cells": [
  {
   "cell_type": "markdown",
   "metadata": {},
   "source": [
    "# Задание 1. A/B–тестирование\n",
    "## 1.1 Условие\n",
    "\n",
    "Одной из основных задач аналитика в нашей команде является корректное проведение экспериментов. Для этого мы применяем метод A/B–тестирования. В ходе тестирования одной гипотезы целевой группе была предложена новая механика оплаты услуг на сайте, у контрольной группы оставалась базовая механика. В качестве задания Вам необходимо проанализировать итоги эксперимента и сделать вывод, стоит ли запускать новую механику оплаты на всех пользователей.\n",
    "\n",
    "## 1.2 Входные данные\n",
    "\n",
    "В качестве входных данных Вы имеете 4 csv-файла:\n",
    "\n",
    "* groups.csv - файл с информацией о принадлежности пользователя к контрольной или экспериментальной группе (А – контроль, B – целевая группа) \n",
    "* groups_add.csv - дополнительный файл с пользователями, который вам прислали спустя 2 дня после передачи данных\n",
    "* active_studs.csv - файл с информацией о пользователях, которые зашли на платформу в дни проведения эксперимента. \n",
    "* checks.csv - файл с информацией об оплатах пользователей в дни проведения эксперимента.\n",
    "\n",
    "## 1.3 Вопросы\n",
    "\n",
    "Предлагаем Вам ответить на следующие вопросы:\n",
    "\n",
    "* На какие метрики Вы смотрите в ходе анализа и почему?\n",
    "* Имеются ли различия в показателях и с чем они могут быть связаны?\n",
    "* Являются ли эти различия статистически значимыми?\n",
    "* Стоит ли запускать новую механику на всех пользователей?"
   ]
  },
  {
   "cell_type": "code",
   "execution_count": null,
   "metadata": {},
   "outputs": [],
   "source": [
    "import pandas as pd\n",
    "import requests \n",
    "from urllib.parse import urlencode\n",
    "import numpy as np\n",
    "import seaborn as sns\n",
    "import matplotlib\n",
    "from scipy.stats import norm, mannwhitneyu\n",
    "import matplotlib.pyplot as plt\n",
    "import pandahouse as ph\n",
    "\n",
    "from tqdm.auto import tqdm\n",
    "\n",
    "plt.style.use('ggplot')"
   ]
  },
  {
   "cell_type": "code",
   "execution_count": 2,
   "metadata": {},
   "outputs": [],
   "source": [
    "# Выгружаем данные напрямую с диска\n",
    "base_url = 'https://cloud-api.yandex.net/v1/disk/public/resources/download?' \n",
    "public_key_1 = 'https://disk.yandex.ru/d/58Us0DWOzuWAjg'\n",
    "public_key_2 = 'https://disk.yandex.ru/d/3aARY-P9pfaksg'\n",
    "public_key_3 = 'https://disk.yandex.ru/d/prbgU-rZpiXVYg'\n",
    "public_key_4 = 'https://disk.yandex.ru/d/84hTmELphW2sqQ'\n",
    "final_url_1 = base_url + urlencode(dict(public_key=public_key_1)) \n",
    "final_url_2 = base_url + urlencode(dict(public_key=public_key_2))\n",
    "final_url_3 = base_url + urlencode(dict(public_key=public_key_3))\n",
    "final_url_4 = base_url + urlencode(dict(public_key=public_key_4))\n",
    "response_1 = requests.get(final_url_1)\n",
    "response_2 = requests.get(final_url_2)\n",
    "response_3 = requests.get(final_url_3)\n",
    "response_4 = requests.get(final_url_4)\n",
    "download_url_1 = response_1.json()['href'] \n",
    "download_url_2 = response_2.json()['href'] \n",
    "download_url_3 = response_3.json()['href']\n",
    "download_url_4 = response_4.json()['href'] \n",
    "groups =    pd.read_csv(download_url_1, sep=';')\n",
    "group_add =   pd.read_csv(download_url_2, sep=',')\n",
    "active_studs = pd.read_csv(download_url_3, sep=';')\n",
    "checks =       pd.read_csv(download_url_4, sep=';')"
   ]
  },
  {
   "cell_type": "code",
   "execution_count": 3,
   "metadata": {},
   "outputs": [
    {
     "data": {
      "text/html": [
       "<div>\n",
       "<style scoped>\n",
       "    .dataframe tbody tr th:only-of-type {\n",
       "        vertical-align: middle;\n",
       "    }\n",
       "\n",
       "    .dataframe tbody tr th {\n",
       "        vertical-align: top;\n",
       "    }\n",
       "\n",
       "    .dataframe thead th {\n",
       "        text-align: right;\n",
       "    }\n",
       "</style>\n",
       "<table border=\"1\" class=\"dataframe\">\n",
       "  <thead>\n",
       "    <tr style=\"text-align: right;\">\n",
       "      <th></th>\n",
       "      <th>id</th>\n",
       "      <th>grp</th>\n",
       "    </tr>\n",
       "  </thead>\n",
       "  <tbody>\n",
       "    <tr>\n",
       "      <th>0</th>\n",
       "      <td>1489</td>\n",
       "      <td>B</td>\n",
       "    </tr>\n",
       "    <tr>\n",
       "      <th>1</th>\n",
       "      <td>1627</td>\n",
       "      <td>A</td>\n",
       "    </tr>\n",
       "    <tr>\n",
       "      <th>2</th>\n",
       "      <td>1768</td>\n",
       "      <td>B</td>\n",
       "    </tr>\n",
       "    <tr>\n",
       "      <th>3</th>\n",
       "      <td>1783</td>\n",
       "      <td>B</td>\n",
       "    </tr>\n",
       "    <tr>\n",
       "      <th>4</th>\n",
       "      <td>1794</td>\n",
       "      <td>A</td>\n",
       "    </tr>\n",
       "    <tr>\n",
       "      <th>5</th>\n",
       "      <td>1803</td>\n",
       "      <td>B</td>\n",
       "    </tr>\n",
       "    <tr>\n",
       "      <th>6</th>\n",
       "      <td>1805</td>\n",
       "      <td>B</td>\n",
       "    </tr>\n",
       "  </tbody>\n",
       "</table>\n",
       "</div>"
      ],
      "text/plain": [
       "     id grp\n",
       "0  1489   B\n",
       "1  1627   A\n",
       "2  1768   B\n",
       "3  1783   B\n",
       "4  1794   A\n",
       "5  1803   B\n",
       "6  1805   B"
      ]
     },
     "execution_count": 3,
     "metadata": {},
     "output_type": "execute_result"
    }
   ],
   "source": [
    "all_group=pd.concat([groups, group_add], ignore_index=True)\n",
    "all_group.head(7)\n",
    "\n",
    "# делаем единый ДФ для всех студентов (объединила groups и group_add)"
   ]
  },
  {
   "cell_type": "code",
   "execution_count": 4,
   "metadata": {},
   "outputs": [
    {
     "data": {
      "text/plain": [
       "(74576, 2)"
      ]
     },
     "execution_count": 4,
     "metadata": {},
     "output_type": "execute_result"
    }
   ],
   "source": [
    "all_group.shape"
   ]
  },
  {
   "cell_type": "code",
   "execution_count": 5,
   "metadata": {},
   "outputs": [
    {
     "data": {
      "text/plain": [
       "id     0\n",
       "grp    0\n",
       "dtype: int64"
      ]
     },
     "execution_count": 5,
     "metadata": {},
     "output_type": "execute_result"
    }
   ],
   "source": [
    "all_group.isna().sum()\n",
    "#проверяю, что в groups и group_add не было пустых значений"
   ]
  },
  {
   "cell_type": "code",
   "execution_count": 6,
   "metadata": {},
   "outputs": [
    {
     "data": {
      "text/plain": [
       "id     74576\n",
       "grp        2\n",
       "dtype: int64"
      ]
     },
     "execution_count": 6,
     "metadata": {},
     "output_type": "execute_result"
    }
   ],
   "source": [
    "all_group.nunique()\n",
    "\n",
    "#проверяю, что в groups и group_add не было случайного повтора "
   ]
  },
  {
   "cell_type": "code",
   "execution_count": 7,
   "metadata": {},
   "outputs": [
    {
     "data": {
      "text/plain": [
       "id      int64\n",
       "grp    object\n",
       "dtype: object"
      ]
     },
     "execution_count": 7,
     "metadata": {},
     "output_type": "execute_result"
    }
   ],
   "source": [
    "all_group.dtypes\n",
    "\n",
    "#проверяю тип данных"
   ]
  },
  {
   "cell_type": "code",
   "execution_count": 8,
   "metadata": {},
   "outputs": [
    {
     "data": {
      "text/plain": [
       "(8341, 1)"
      ]
     },
     "execution_count": 8,
     "metadata": {},
     "output_type": "execute_result"
    }
   ],
   "source": [
    "active_studs.shape\n",
    "\n",
    "# обращаем внимание, что в active_studs записано намного меньше пользователей, чем в all_group\n",
    "# так как нам интересно влияние новой механики оплаты услуг, то есть смысл далее рассматривать только тех пользователей, \n",
    "# которые зашли на платформу в дни проведения эксперимента"
   ]
  },
  {
   "cell_type": "code",
   "execution_count": 9,
   "metadata": {
    "scrolled": true
   },
   "outputs": [
    {
     "data": {
      "text/html": [
       "<div>\n",
       "<style scoped>\n",
       "    .dataframe tbody tr th:only-of-type {\n",
       "        vertical-align: middle;\n",
       "    }\n",
       "\n",
       "    .dataframe tbody tr th {\n",
       "        vertical-align: top;\n",
       "    }\n",
       "\n",
       "    .dataframe thead th {\n",
       "        text-align: right;\n",
       "    }\n",
       "</style>\n",
       "<table border=\"1\" class=\"dataframe\">\n",
       "  <thead>\n",
       "    <tr style=\"text-align: right;\">\n",
       "      <th></th>\n",
       "      <th>id</th>\n",
       "    </tr>\n",
       "  </thead>\n",
       "  <tbody>\n",
       "    <tr>\n",
       "      <th>0</th>\n",
       "      <td>581585</td>\n",
       "    </tr>\n",
       "    <tr>\n",
       "      <th>1</th>\n",
       "      <td>5723133</td>\n",
       "    </tr>\n",
       "    <tr>\n",
       "      <th>2</th>\n",
       "      <td>3276743</td>\n",
       "    </tr>\n",
       "    <tr>\n",
       "      <th>3</th>\n",
       "      <td>4238589</td>\n",
       "    </tr>\n",
       "    <tr>\n",
       "      <th>4</th>\n",
       "      <td>4475369</td>\n",
       "    </tr>\n",
       "  </tbody>\n",
       "</table>\n",
       "</div>"
      ],
      "text/plain": [
       "        id\n",
       "0   581585\n",
       "1  5723133\n",
       "2  3276743\n",
       "3  4238589\n",
       "4  4475369"
      ]
     },
     "execution_count": 9,
     "metadata": {},
     "output_type": "execute_result"
    }
   ],
   "source": [
    "active_studs=active_studs.rename(columns={'student_id':'id'})\n",
    "active_studs.head()\n",
    "# переименовала колонку, чтобы потом сделать merge по ней"
   ]
  },
  {
   "cell_type": "code",
   "execution_count": 10,
   "metadata": {},
   "outputs": [
    {
     "data": {
      "text/plain": [
       "(8341, 2)"
      ]
     },
     "execution_count": 10,
     "metadata": {},
     "output_type": "execute_result"
    }
   ],
   "source": [
    "active_all_group = pd.merge(all_group, active_studs, how=\"right\", on=[\"id\"])\n",
    "active_all_group.shape\n",
    "\n",
    "# оставила из all_group только тех пользователей,которые зашли на платформу в дни проведения эксперимента\n",
    "# сразу проверила, что все ок и данные не потеряла. Размерность совпадает"
   ]
  },
  {
   "cell_type": "code",
   "execution_count": 11,
   "metadata": {},
   "outputs": [
    {
     "data": {
      "text/plain": [
       "(541, 2)"
      ]
     },
     "execution_count": 11,
     "metadata": {},
     "output_type": "execute_result"
    }
   ],
   "source": [
    "checks.shape\n",
    "\n",
    "# по условию задачи не сказано, на что конкретно исследуется влияние нового механизма оплаты. \n",
    "# Так как в наличии мы имеем только данные об оплатах, то это и будет нашей зависимой величиной.\n",
    "# При этом обращаем внимание, что в checks данных < чем в active_all_group, а это говорит о том, что\n",
    "# среди пользователей, зашедших на платформу в дни эксперимента, большая часть не совершала оплаты. \n",
    "# для дальнейшего исследования нам необходимо объединить active_all_group и checks по id из active_all_group. \n",
    "# При этом для всех id из checks, которые не совершали оплаты значение rev сделаем = 0"
   ]
  },
  {
   "cell_type": "code",
   "execution_count": 12,
   "metadata": {},
   "outputs": [
    {
     "data": {
      "text/html": [
       "<div>\n",
       "<style scoped>\n",
       "    .dataframe tbody tr th:only-of-type {\n",
       "        vertical-align: middle;\n",
       "    }\n",
       "\n",
       "    .dataframe tbody tr th {\n",
       "        vertical-align: top;\n",
       "    }\n",
       "\n",
       "    .dataframe thead th {\n",
       "        text-align: right;\n",
       "    }\n",
       "</style>\n",
       "<table border=\"1\" class=\"dataframe\">\n",
       "  <thead>\n",
       "    <tr style=\"text-align: right;\">\n",
       "      <th></th>\n",
       "      <th>id</th>\n",
       "      <th>rev</th>\n",
       "    </tr>\n",
       "  </thead>\n",
       "  <tbody>\n",
       "    <tr>\n",
       "      <th>0</th>\n",
       "      <td>1627</td>\n",
       "      <td>990.0</td>\n",
       "    </tr>\n",
       "    <tr>\n",
       "      <th>1</th>\n",
       "      <td>3185</td>\n",
       "      <td>690.0</td>\n",
       "    </tr>\n",
       "    <tr>\n",
       "      <th>2</th>\n",
       "      <td>25973</td>\n",
       "      <td>690.0</td>\n",
       "    </tr>\n",
       "    <tr>\n",
       "      <th>3</th>\n",
       "      <td>26280</td>\n",
       "      <td>690.0</td>\n",
       "    </tr>\n",
       "    <tr>\n",
       "      <th>4</th>\n",
       "      <td>100300</td>\n",
       "      <td>990.0</td>\n",
       "    </tr>\n",
       "    <tr>\n",
       "      <th>5</th>\n",
       "      <td>100645</td>\n",
       "      <td>630.0</td>\n",
       "    </tr>\n",
       "    <tr>\n",
       "      <th>6</th>\n",
       "      <td>102534</td>\n",
       "      <td>580.0</td>\n",
       "    </tr>\n",
       "    <tr>\n",
       "      <th>7</th>\n",
       "      <td>106837</td>\n",
       "      <td>290.0</td>\n",
       "    </tr>\n",
       "    <tr>\n",
       "      <th>8</th>\n",
       "      <td>108270</td>\n",
       "      <td>290.0</td>\n",
       "    </tr>\n",
       "    <tr>\n",
       "      <th>9</th>\n",
       "      <td>114366</td>\n",
       "      <td>690.0</td>\n",
       "    </tr>\n",
       "  </tbody>\n",
       "</table>\n",
       "</div>"
      ],
      "text/plain": [
       "       id    rev\n",
       "0    1627  990.0\n",
       "1    3185  690.0\n",
       "2   25973  690.0\n",
       "3   26280  690.0\n",
       "4  100300  990.0\n",
       "5  100645  630.0\n",
       "6  102534  580.0\n",
       "7  106837  290.0\n",
       "8  108270  290.0\n",
       "9  114366  690.0"
      ]
     },
     "execution_count": 12,
     "metadata": {},
     "output_type": "execute_result"
    }
   ],
   "source": [
    "checks=checks.rename(columns={'student_id':'id'})\n",
    "checks.head(10)\n",
    "\n",
    "# переименовала колонку, чтобы потом сделать merge по ней"
   ]
  },
  {
   "cell_type": "code",
   "execution_count": 13,
   "metadata": {
    "scrolled": true
   },
   "outputs": [
    {
     "data": {
      "text/html": [
       "<div>\n",
       "<style scoped>\n",
       "    .dataframe tbody tr th:only-of-type {\n",
       "        vertical-align: middle;\n",
       "    }\n",
       "\n",
       "    .dataframe tbody tr th {\n",
       "        vertical-align: top;\n",
       "    }\n",
       "\n",
       "    .dataframe thead th {\n",
       "        text-align: right;\n",
       "    }\n",
       "</style>\n",
       "<table border=\"1\" class=\"dataframe\">\n",
       "  <thead>\n",
       "    <tr style=\"text-align: right;\">\n",
       "      <th></th>\n",
       "      <th>id</th>\n",
       "      <th>grp</th>\n",
       "      <th>rev</th>\n",
       "    </tr>\n",
       "  </thead>\n",
       "  <tbody>\n",
       "    <tr>\n",
       "      <th>0</th>\n",
       "      <td>581585</td>\n",
       "      <td>A</td>\n",
       "      <td>0.0</td>\n",
       "    </tr>\n",
       "    <tr>\n",
       "      <th>1</th>\n",
       "      <td>5723133</td>\n",
       "      <td>A</td>\n",
       "      <td>0.0</td>\n",
       "    </tr>\n",
       "    <tr>\n",
       "      <th>2</th>\n",
       "      <td>3276743</td>\n",
       "      <td>B</td>\n",
       "      <td>0.0</td>\n",
       "    </tr>\n",
       "    <tr>\n",
       "      <th>3</th>\n",
       "      <td>4238589</td>\n",
       "      <td>A</td>\n",
       "      <td>0.0</td>\n",
       "    </tr>\n",
       "    <tr>\n",
       "      <th>4</th>\n",
       "      <td>4475369</td>\n",
       "      <td>B</td>\n",
       "      <td>0.0</td>\n",
       "    </tr>\n",
       "  </tbody>\n",
       "</table>\n",
       "</div>"
      ],
      "text/plain": [
       "        id grp  rev\n",
       "0   581585   A  0.0\n",
       "1  5723133   A  0.0\n",
       "2  3276743   B  0.0\n",
       "3  4238589   A  0.0\n",
       "4  4475369   B  0.0"
      ]
     },
     "execution_count": 13,
     "metadata": {},
     "output_type": "execute_result"
    }
   ],
   "source": [
    "common_info = pd.merge(active_all_group, checks, how=\"left\", on=[\"id\"])\n",
    "common_info=common_info.fillna(0)\n",
    "common_info.head()\n",
    "\n",
    "# Получаем итоговый ДФ со всей интересующей нас информацией"
   ]
  },
  {
   "cell_type": "code",
   "execution_count": 14,
   "metadata": {
    "scrolled": true
   },
   "outputs": [
    {
     "data": {
      "text/html": [
       "<div>\n",
       "<style scoped>\n",
       "    .dataframe tbody tr th:only-of-type {\n",
       "        vertical-align: middle;\n",
       "    }\n",
       "\n",
       "    .dataframe tbody tr th {\n",
       "        vertical-align: top;\n",
       "    }\n",
       "\n",
       "    .dataframe thead th {\n",
       "        text-align: right;\n",
       "    }\n",
       "</style>\n",
       "<table border=\"1\" class=\"dataframe\">\n",
       "  <thead>\n",
       "    <tr style=\"text-align: right;\">\n",
       "      <th></th>\n",
       "      <th>id</th>\n",
       "      <th>grp</th>\n",
       "      <th>rev</th>\n",
       "      <th>Fact</th>\n",
       "    </tr>\n",
       "  </thead>\n",
       "  <tbody>\n",
       "    <tr>\n",
       "      <th>0</th>\n",
       "      <td>581585</td>\n",
       "      <td>A</td>\n",
       "      <td>0.0</td>\n",
       "      <td>0</td>\n",
       "    </tr>\n",
       "    <tr>\n",
       "      <th>1</th>\n",
       "      <td>5723133</td>\n",
       "      <td>A</td>\n",
       "      <td>0.0</td>\n",
       "      <td>0</td>\n",
       "    </tr>\n",
       "    <tr>\n",
       "      <th>2</th>\n",
       "      <td>3276743</td>\n",
       "      <td>B</td>\n",
       "      <td>0.0</td>\n",
       "      <td>0</td>\n",
       "    </tr>\n",
       "    <tr>\n",
       "      <th>3</th>\n",
       "      <td>4238589</td>\n",
       "      <td>A</td>\n",
       "      <td>0.0</td>\n",
       "      <td>0</td>\n",
       "    </tr>\n",
       "    <tr>\n",
       "      <th>4</th>\n",
       "      <td>4475369</td>\n",
       "      <td>B</td>\n",
       "      <td>0.0</td>\n",
       "      <td>0</td>\n",
       "    </tr>\n",
       "  </tbody>\n",
       "</table>\n",
       "</div>"
      ],
      "text/plain": [
       "        id grp  rev  Fact\n",
       "0   581585   A  0.0     0\n",
       "1  5723133   A  0.0     0\n",
       "2  3276743   B  0.0     0\n",
       "3  4238589   A  0.0     0\n",
       "4  4475369   B  0.0     0"
      ]
     },
     "execution_count": 14,
     "metadata": {},
     "output_type": "execute_result"
    }
   ],
   "source": [
    "common_info['Fact'] = np.where(common_info['rev']>0, '1', '0')\n",
    "common_info['Fact']=common_info['Fact'].astype (str).astype (int)\n",
    "common_info.head()\n",
    "\n",
    "# рассмотрим как вообще могло измениться количество оплат для групп А и В"
   ]
  },
  {
   "cell_type": "code",
   "execution_count": 15,
   "metadata": {},
   "outputs": [
    {
     "data": {
      "text/html": [
       "<div>\n",
       "<style scoped>\n",
       "    .dataframe tbody tr th:only-of-type {\n",
       "        vertical-align: middle;\n",
       "    }\n",
       "\n",
       "    .dataframe tbody tr th {\n",
       "        vertical-align: top;\n",
       "    }\n",
       "\n",
       "    .dataframe thead th {\n",
       "        text-align: right;\n",
       "    }\n",
       "</style>\n",
       "<table border=\"1\" class=\"dataframe\">\n",
       "  <thead>\n",
       "    <tr style=\"text-align: right;\">\n",
       "      <th>Fact</th>\n",
       "      <th>0</th>\n",
       "      <th>1</th>\n",
       "    </tr>\n",
       "    <tr>\n",
       "      <th>grp</th>\n",
       "      <th></th>\n",
       "      <th></th>\n",
       "    </tr>\n",
       "  </thead>\n",
       "  <tbody>\n",
       "    <tr>\n",
       "      <th>A</th>\n",
       "      <td>1460</td>\n",
       "      <td>78</td>\n",
       "    </tr>\n",
       "    <tr>\n",
       "      <th>B</th>\n",
       "      <td>6489</td>\n",
       "      <td>314</td>\n",
       "    </tr>\n",
       "  </tbody>\n",
       "</table>\n",
       "</div>"
      ],
      "text/plain": [
       "Fact     0    1\n",
       "grp            \n",
       "A     1460   78\n",
       "B     6489  314"
      ]
     },
     "execution_count": 15,
     "metadata": {},
     "output_type": "execute_result"
    }
   ],
   "source": [
    "pd.crosstab(common_info.grp, common_info.Fact)\n",
    "\n",
    "#сразу можно увидеть, что в принципе группа А намного меньше группы В\n",
    "# из группы А 78 пользователей совершили оплату, 1460 - не совершили\n",
    "# из группы В 314 пользователей совершили оплату, 6489 - не совершили"
   ]
  },
  {
   "cell_type": "code",
   "execution_count": 16,
   "metadata": {},
   "outputs": [],
   "source": [
    "# по предварительным наблюдениям, можно сказать что % пользователей, которые совершают покупки изменился не очень сильно\n",
    "# можно ли считать это различие стат значимым?\n",
    "\n",
    "# выдвигаем H0: новый механизм оплаты не оказывает эффекта на конверсию (CR - основная метрика проверки)\n",
    "# принимаем уровень достоверности = 95%,  альфа=0,05.\n",
    "\n",
    "# также можем выдвинуть Н0: новый механизм оплаты не оказывает эффект на среднее rev"
   ]
  },
  {
   "cell_type": "code",
   "execution_count": 17,
   "metadata": {},
   "outputs": [],
   "source": [
    "alpha=0.05"
   ]
  },
  {
   "cell_type": "code",
   "execution_count": 18,
   "metadata": {},
   "outputs": [
    {
     "name": "stderr",
     "output_type": "stream",
     "text": [
      "/opt/tljh/user/lib/python3.7/site-packages/ipykernel_launcher.py:2: SettingWithCopyWarning: \n",
      "A value is trying to be set on a copy of a slice from a DataFrame.\n",
      "Try using .loc[row_indexer,col_indexer] = value instead\n",
      "\n",
      "See the caveats in the documentation: https://pandas.pydata.org/pandas-docs/stable/user_guide/indexing.html#returning-a-view-versus-a-copy\n",
      "  \n"
     ]
    },
    {
     "data": {
      "text/html": [
       "<div>\n",
       "<style scoped>\n",
       "    .dataframe tbody tr th:only-of-type {\n",
       "        vertical-align: middle;\n",
       "    }\n",
       "\n",
       "    .dataframe tbody tr th {\n",
       "        vertical-align: top;\n",
       "    }\n",
       "\n",
       "    .dataframe thead th {\n",
       "        text-align: right;\n",
       "    }\n",
       "</style>\n",
       "<table border=\"1\" class=\"dataframe\">\n",
       "  <thead>\n",
       "    <tr style=\"text-align: right;\">\n",
       "      <th></th>\n",
       "      <th>id</th>\n",
       "      <th>grp</th>\n",
       "      <th>rev</th>\n",
       "      <th>Fact</th>\n",
       "    </tr>\n",
       "  </thead>\n",
       "  <tbody>\n",
       "    <tr>\n",
       "      <th>0</th>\n",
       "      <td>581585</td>\n",
       "      <td>A</td>\n",
       "      <td>0.0</td>\n",
       "      <td>0</td>\n",
       "    </tr>\n",
       "    <tr>\n",
       "      <th>1</th>\n",
       "      <td>5723133</td>\n",
       "      <td>A</td>\n",
       "      <td>0.0</td>\n",
       "      <td>0</td>\n",
       "    </tr>\n",
       "    <tr>\n",
       "      <th>3</th>\n",
       "      <td>4238589</td>\n",
       "      <td>A</td>\n",
       "      <td>0.0</td>\n",
       "      <td>0</td>\n",
       "    </tr>\n",
       "    <tr>\n",
       "      <th>7</th>\n",
       "      <td>1394612</td>\n",
       "      <td>A</td>\n",
       "      <td>0.0</td>\n",
       "      <td>0</td>\n",
       "    </tr>\n",
       "    <tr>\n",
       "      <th>21</th>\n",
       "      <td>5194768</td>\n",
       "      <td>A</td>\n",
       "      <td>0.0</td>\n",
       "      <td>0</td>\n",
       "    </tr>\n",
       "  </tbody>\n",
       "</table>\n",
       "</div>"
      ],
      "text/plain": [
       "         id grp  rev  Fact\n",
       "0    581585   A  0.0     0\n",
       "1   5723133   A  0.0     0\n",
       "3   4238589   A  0.0     0\n",
       "7   1394612   A  0.0     0\n",
       "21  5194768   A  0.0     0"
      ]
     },
     "execution_count": 18,
     "metadata": {},
     "output_type": "execute_result"
    }
   ],
   "source": [
    "A_group=common_info.query('grp==\"A\"')\n",
    "A_group['Fact']=A_group['Fact'].astype (str).astype (int)\n",
    "A_group.head()\n",
    "\n",
    "# перевела значения колонки Fact в int"
   ]
  },
  {
   "cell_type": "code",
   "execution_count": 19,
   "metadata": {
    "scrolled": true
   },
   "outputs": [
    {
     "name": "stderr",
     "output_type": "stream",
     "text": [
      "/opt/tljh/user/lib/python3.7/site-packages/ipykernel_launcher.py:2: SettingWithCopyWarning: \n",
      "A value is trying to be set on a copy of a slice from a DataFrame.\n",
      "Try using .loc[row_indexer,col_indexer] = value instead\n",
      "\n",
      "See the caveats in the documentation: https://pandas.pydata.org/pandas-docs/stable/user_guide/indexing.html#returning-a-view-versus-a-copy\n",
      "  \n"
     ]
    },
    {
     "data": {
      "text/html": [
       "<div>\n",
       "<style scoped>\n",
       "    .dataframe tbody tr th:only-of-type {\n",
       "        vertical-align: middle;\n",
       "    }\n",
       "\n",
       "    .dataframe tbody tr th {\n",
       "        vertical-align: top;\n",
       "    }\n",
       "\n",
       "    .dataframe thead th {\n",
       "        text-align: right;\n",
       "    }\n",
       "</style>\n",
       "<table border=\"1\" class=\"dataframe\">\n",
       "  <thead>\n",
       "    <tr style=\"text-align: right;\">\n",
       "      <th></th>\n",
       "      <th>id</th>\n",
       "      <th>grp</th>\n",
       "      <th>rev</th>\n",
       "      <th>Fact</th>\n",
       "    </tr>\n",
       "  </thead>\n",
       "  <tbody>\n",
       "    <tr>\n",
       "      <th>2</th>\n",
       "      <td>3276743</td>\n",
       "      <td>B</td>\n",
       "      <td>0.0</td>\n",
       "      <td>0</td>\n",
       "    </tr>\n",
       "    <tr>\n",
       "      <th>4</th>\n",
       "      <td>4475369</td>\n",
       "      <td>B</td>\n",
       "      <td>0.0</td>\n",
       "      <td>0</td>\n",
       "    </tr>\n",
       "    <tr>\n",
       "      <th>5</th>\n",
       "      <td>5481015</td>\n",
       "      <td>B</td>\n",
       "      <td>0.0</td>\n",
       "      <td>0</td>\n",
       "    </tr>\n",
       "    <tr>\n",
       "      <th>6</th>\n",
       "      <td>1353433</td>\n",
       "      <td>B</td>\n",
       "      <td>0.0</td>\n",
       "      <td>0</td>\n",
       "    </tr>\n",
       "    <tr>\n",
       "      <th>8</th>\n",
       "      <td>1170611</td>\n",
       "      <td>B</td>\n",
       "      <td>0.0</td>\n",
       "      <td>0</td>\n",
       "    </tr>\n",
       "  </tbody>\n",
       "</table>\n",
       "</div>"
      ],
      "text/plain": [
       "        id grp  rev  Fact\n",
       "2  3276743   B  0.0     0\n",
       "4  4475369   B  0.0     0\n",
       "5  5481015   B  0.0     0\n",
       "6  1353433   B  0.0     0\n",
       "8  1170611   B  0.0     0"
      ]
     },
     "execution_count": 19,
     "metadata": {},
     "output_type": "execute_result"
    }
   ],
   "source": [
    "B_group=common_info.query('grp==\"B\"')\n",
    "B_group['Fact']=B_group['Fact'].astype (str).astype (int)\n",
    "B_group.head()\n",
    "\n",
    "# перевела значения колонки Fact в int"
   ]
  },
  {
   "cell_type": "code",
   "execution_count": 20,
   "metadata": {},
   "outputs": [
    {
     "data": {
      "text/html": [
       "<div>\n",
       "<style scoped>\n",
       "    .dataframe tbody tr th:only-of-type {\n",
       "        vertical-align: middle;\n",
       "    }\n",
       "\n",
       "    .dataframe tbody tr th {\n",
       "        vertical-align: top;\n",
       "    }\n",
       "\n",
       "    .dataframe thead th {\n",
       "        text-align: right;\n",
       "    }\n",
       "</style>\n",
       "<table border=\"1\" class=\"dataframe\">\n",
       "  <thead>\n",
       "    <tr style=\"text-align: right;\">\n",
       "      <th></th>\n",
       "      <th>grp</th>\n",
       "      <th>CR</th>\n",
       "    </tr>\n",
       "  </thead>\n",
       "  <tbody>\n",
       "    <tr>\n",
       "      <th>0</th>\n",
       "      <td>A</td>\n",
       "      <td>0.050715</td>\n",
       "    </tr>\n",
       "    <tr>\n",
       "      <th>1</th>\n",
       "      <td>B</td>\n",
       "      <td>0.046156</td>\n",
       "    </tr>\n",
       "  </tbody>\n",
       "</table>\n",
       "</div>"
      ],
      "text/plain": [
       "  grp        CR\n",
       "0   A  0.050715\n",
       "1   B  0.046156"
      ]
     },
     "execution_count": 20,
     "metadata": {},
     "output_type": "execute_result"
    }
   ],
   "source": [
    "CR=common_info.groupby('grp', as_index=False)\\\n",
    "   .agg({'Fact':'mean'})\\\n",
    "   .rename(columns={'Fact':'CR'})\n",
    "CR\n",
    "\n",
    "# посмотрим CR по группам"
   ]
  },
  {
   "cell_type": "code",
   "execution_count": 21,
   "metadata": {},
   "outputs": [
    {
     "data": {
      "text/html": [
       "<div>\n",
       "<style scoped>\n",
       "    .dataframe tbody tr th:only-of-type {\n",
       "        vertical-align: middle;\n",
       "    }\n",
       "\n",
       "    .dataframe tbody tr th {\n",
       "        vertical-align: top;\n",
       "    }\n",
       "\n",
       "    .dataframe thead th {\n",
       "        text-align: right;\n",
       "    }\n",
       "</style>\n",
       "<table border=\"1\" class=\"dataframe\">\n",
       "  <thead>\n",
       "    <tr style=\"text-align: right;\">\n",
       "      <th></th>\n",
       "      <th>grp</th>\n",
       "      <th>ARPU</th>\n",
       "    </tr>\n",
       "  </thead>\n",
       "  <tbody>\n",
       "    <tr>\n",
       "      <th>0</th>\n",
       "      <td>A</td>\n",
       "      <td>47.347204</td>\n",
       "    </tr>\n",
       "    <tr>\n",
       "      <th>1</th>\n",
       "      <td>B</td>\n",
       "      <td>58.058798</td>\n",
       "    </tr>\n",
       "  </tbody>\n",
       "</table>\n",
       "</div>"
      ],
      "text/plain": [
       "  grp       ARPU\n",
       "0   A  47.347204\n",
       "1   B  58.058798"
      ]
     },
     "execution_count": 21,
     "metadata": {},
     "output_type": "execute_result"
    }
   ],
   "source": [
    "ARPU=common_info.groupby('grp', as_index=False)\\\n",
    "    .agg({'rev':'mean'})\\\n",
    "    .rename(columns={'rev':'ARPU'})\n",
    "ARPU\n",
    "\n",
    "# посмотрим среднее по оплатам по группам"
   ]
  },
  {
   "cell_type": "code",
   "execution_count": 22,
   "metadata": {
    "scrolled": true
   },
   "outputs": [
    {
     "data": {
      "text/plain": [
       "<matplotlib.axes._subplots.AxesSubplot at 0x7f0d662b5ef0>"
      ]
     },
     "execution_count": 22,
     "metadata": {},
     "output_type": "execute_result"
    },
    {
     "data": {
      "image/png": "[encoded data removed]",
      "text/plain": [
       "<Figure size 432x288 with 1 Axes>"
      ]
     },
     "metadata": {},
     "output_type": "display_data"
    }
   ],
   "source": [
    "sns.scatterplot(data=A_group, x=\"id\", y=\"rev\")\n",
    "\n",
    "# По графику видно, что большинство студентов не совершили оплату (в принципе это было видно и из crosstab)"
   ]
  },
  {
   "cell_type": "code",
   "execution_count": 23,
   "metadata": {},
   "outputs": [
    {
     "data": {
      "text/plain": [
       "<matplotlib.axes._subplots.AxesSubplot at 0x7f0d604f9f98>"
      ]
     },
     "execution_count": 23,
     "metadata": {},
     "output_type": "execute_result"
    },
    {
     "data": {
      "image/png": "[encoded data removed]",
      "text/plain": [
       "<Figure size 432x288 with 1 Axes>"
      ]
     },
     "metadata": {},
     "output_type": "display_data"
    }
   ],
   "source": [
    "sns.scatterplot(data=B_group, x=\"id\", y=\"rev\")\n",
    "\n",
    "# По графику видно, что большинство студентов либо не совершили оплату, либо заплатили одинаково (примерно 2000). \n",
    "# Интересна причина скопления точек на уровне rev=2000. Появляются сомнения по поводу репрезентвативности выборки\n",
    "# Также учтем, что это \"скопление\" повлияет на результаты сравнение групп по параметру rev "
   ]
  },
  {
   "cell_type": "code",
   "execution_count": 24,
   "metadata": {},
   "outputs": [
    {
     "data": {
      "text/html": [
       "<div>\n",
       "<style scoped>\n",
       "    .dataframe tbody tr th:only-of-type {\n",
       "        vertical-align: middle;\n",
       "    }\n",
       "\n",
       "    .dataframe tbody tr th {\n",
       "        vertical-align: top;\n",
       "    }\n",
       "\n",
       "    .dataframe thead th {\n",
       "        text-align: right;\n",
       "    }\n",
       "</style>\n",
       "<table border=\"1\" class=\"dataframe\">\n",
       "  <thead>\n",
       "    <tr style=\"text-align: right;\">\n",
       "      <th></th>\n",
       "      <th>rev</th>\n",
       "      <th>id</th>\n",
       "    </tr>\n",
       "  </thead>\n",
       "  <tbody>\n",
       "    <tr>\n",
       "      <th>0</th>\n",
       "      <td>0.0000</td>\n",
       "      <td>6489</td>\n",
       "    </tr>\n",
       "    <tr>\n",
       "      <th>21</th>\n",
       "      <td>1900.0000</td>\n",
       "      <td>93</td>\n",
       "    </tr>\n",
       "    <tr>\n",
       "      <th>2</th>\n",
       "      <td>290.0000</td>\n",
       "      <td>45</td>\n",
       "    </tr>\n",
       "    <tr>\n",
       "      <th>22</th>\n",
       "      <td>1900.0001</td>\n",
       "      <td>35</td>\n",
       "    </tr>\n",
       "    <tr>\n",
       "      <th>1</th>\n",
       "      <td>199.0000</td>\n",
       "      <td>27</td>\n",
       "    </tr>\n",
       "    <tr>\n",
       "      <th>10</th>\n",
       "      <td>840.0000</td>\n",
       "      <td>21</td>\n",
       "    </tr>\n",
       "    <tr>\n",
       "      <th>13</th>\n",
       "      <td>990.0000</td>\n",
       "      <td>17</td>\n",
       "    </tr>\n",
       "    <tr>\n",
       "      <th>8</th>\n",
       "      <td>690.0000</td>\n",
       "      <td>13</td>\n",
       "    </tr>\n",
       "    <tr>\n",
       "      <th>15</th>\n",
       "      <td>1140.0000</td>\n",
       "      <td>9</td>\n",
       "    </tr>\n",
       "    <tr>\n",
       "      <th>6</th>\n",
       "      <td>590.0000</td>\n",
       "      <td>6</td>\n",
       "    </tr>\n",
       "    <tr>\n",
       "      <th>3</th>\n",
       "      <td>398.0000</td>\n",
       "      <td>6</td>\n",
       "    </tr>\n",
       "    <tr>\n",
       "      <th>5</th>\n",
       "      <td>580.0000</td>\n",
       "      <td>5</td>\n",
       "    </tr>\n",
       "    <tr>\n",
       "      <th>19</th>\n",
       "      <td>1530.0000</td>\n",
       "      <td>5</td>\n",
       "    </tr>\n",
       "    <tr>\n",
       "      <th>11</th>\n",
       "      <td>870.0000</td>\n",
       "      <td>5</td>\n",
       "    </tr>\n",
       "    <tr>\n",
       "      <th>28</th>\n",
       "      <td>2890.0000</td>\n",
       "      <td>3</td>\n",
       "    </tr>\n",
       "    <tr>\n",
       "      <th>25</th>\n",
       "      <td>2099.0000</td>\n",
       "      <td>3</td>\n",
       "    </tr>\n",
       "    <tr>\n",
       "      <th>29</th>\n",
       "      <td>2910.0000</td>\n",
       "      <td>2</td>\n",
       "    </tr>\n",
       "    <tr>\n",
       "      <th>24</th>\n",
       "      <td>1980.0000</td>\n",
       "      <td>2</td>\n",
       "    </tr>\n",
       "    <tr>\n",
       "      <th>32</th>\n",
       "      <td>3660.0000</td>\n",
       "      <td>2</td>\n",
       "    </tr>\n",
       "    <tr>\n",
       "      <th>27</th>\n",
       "      <td>2220.0000</td>\n",
       "      <td>1</td>\n",
       "    </tr>\n",
       "    <tr>\n",
       "      <th>26</th>\n",
       "      <td>2190.0000</td>\n",
       "      <td>1</td>\n",
       "    </tr>\n",
       "    <tr>\n",
       "      <th>30</th>\n",
       "      <td>3040.0000</td>\n",
       "      <td>1</td>\n",
       "    </tr>\n",
       "    <tr>\n",
       "      <th>31</th>\n",
       "      <td>3260.0000</td>\n",
       "      <td>1</td>\n",
       "    </tr>\n",
       "    <tr>\n",
       "      <th>17</th>\n",
       "      <td>1339.0000</td>\n",
       "      <td>1</td>\n",
       "    </tr>\n",
       "    <tr>\n",
       "      <th>23</th>\n",
       "      <td>1968.0000</td>\n",
       "      <td>1</td>\n",
       "    </tr>\n",
       "    <tr>\n",
       "      <th>20</th>\n",
       "      <td>1729.0000</td>\n",
       "      <td>1</td>\n",
       "    </tr>\n",
       "    <tr>\n",
       "      <th>18</th>\n",
       "      <td>1388.0000</td>\n",
       "      <td>1</td>\n",
       "    </tr>\n",
       "    <tr>\n",
       "      <th>16</th>\n",
       "      <td>1160.0000</td>\n",
       "      <td>1</td>\n",
       "    </tr>\n",
       "    <tr>\n",
       "      <th>14</th>\n",
       "      <td>1050.0000</td>\n",
       "      <td>1</td>\n",
       "    </tr>\n",
       "    <tr>\n",
       "      <th>12</th>\n",
       "      <td>880.0000</td>\n",
       "      <td>1</td>\n",
       "    </tr>\n",
       "    <tr>\n",
       "      <th>9</th>\n",
       "      <td>796.0000</td>\n",
       "      <td>1</td>\n",
       "    </tr>\n",
       "    <tr>\n",
       "      <th>7</th>\n",
       "      <td>597.0000</td>\n",
       "      <td>1</td>\n",
       "    </tr>\n",
       "    <tr>\n",
       "      <th>4</th>\n",
       "      <td>489.0000</td>\n",
       "      <td>1</td>\n",
       "    </tr>\n",
       "    <tr>\n",
       "      <th>33</th>\n",
       "      <td>4650.0000</td>\n",
       "      <td>1</td>\n",
       "    </tr>\n",
       "  </tbody>\n",
       "</table>\n",
       "</div>"
      ],
      "text/plain": [
       "          rev    id\n",
       "0      0.0000  6489\n",
       "21  1900.0000    93\n",
       "2    290.0000    45\n",
       "22  1900.0001    35\n",
       "1    199.0000    27\n",
       "10   840.0000    21\n",
       "13   990.0000    17\n",
       "8    690.0000    13\n",
       "15  1140.0000     9\n",
       "6    590.0000     6\n",
       "3    398.0000     6\n",
       "5    580.0000     5\n",
       "19  1530.0000     5\n",
       "11   870.0000     5\n",
       "28  2890.0000     3\n",
       "25  2099.0000     3\n",
       "29  2910.0000     2\n",
       "24  1980.0000     2\n",
       "32  3660.0000     2\n",
       "27  2220.0000     1\n",
       "26  2190.0000     1\n",
       "30  3040.0000     1\n",
       "31  3260.0000     1\n",
       "17  1339.0000     1\n",
       "23  1968.0000     1\n",
       "20  1729.0000     1\n",
       "18  1388.0000     1\n",
       "16  1160.0000     1\n",
       "14  1050.0000     1\n",
       "12   880.0000     1\n",
       "9    796.0000     1\n",
       "7    597.0000     1\n",
       "4    489.0000     1\n",
       "33  4650.0000     1"
      ]
     },
     "execution_count": 24,
     "metadata": {},
     "output_type": "execute_result"
    }
   ],
   "source": [
    "rev_id=B_group.groupby('rev', as_index=False).agg({'id':'count'}).sort_values('id', ascending=False)\n",
    "rev_id\n",
    "\n",
    "# решила посмотреть поподробнее на значения в scatterplot"
   ]
  },
  {
   "cell_type": "code",
   "execution_count": 25,
   "metadata": {},
   "outputs": [],
   "source": [
    "x = common_info['rev'][(common_info['grp']==\"A\")]\n",
    "y = common_info['rev'][(common_info['grp']==\"B\")]\n",
    "a = common_info['Fact'][(common_info['grp']==\"A\")]\n",
    "b = common_info['Fact'][(common_info['grp']==\"B\")]\n",
    "\n",
    "# поместим нужные нам данные в новые переменные"
   ]
  },
  {
   "cell_type": "code",
   "execution_count": 26,
   "metadata": {},
   "outputs": [],
   "source": [
    "# Объявим функцию, которая позволит проверять гипотезы с помощью бутстрапа\n",
    "def get_bootstrap(\n",
    "    data_column_1, # числовые значения первой выборки\n",
    "    data_column_2, # числовые значения второй выборки\n",
    "    boot_it = 2000, # количество бутстрэп-подвыборок\n",
    "    statistic = np.mean, # интересующая нас статистика\n",
    "    bootstrap_conf_level = 0.95 # уровень значимости\n",
    "):\n",
    "    boot_len = max([len(data_column_1), len(data_column_2)])\n",
    "    boot_data = []\n",
    "    for i in range(boot_it): # извлекаем подвыборки\n",
    "        samples_1 = data_column_1.sample(boot_len, replace = True).values\n",
    "        samples_2 = data_column_2.sample(boot_len, replace = True).values\n",
    "        \n",
    "        boot_data.append(statistic(samples_1-samples_2)) # mean() - применяем статистику\n",
    "        \n",
    "    pd_boot_data = pd.DataFrame(boot_data)\n",
    "        \n",
    "    left_quant = (1 - bootstrap_conf_level)/2\n",
    "    right_quant = 1 - (1 - bootstrap_conf_level) / 2\n",
    "    ci = pd_boot_data.quantile([left_quant, right_quant])\n",
    "        \n",
    "    p_1 = norm.cdf(x = 0, loc = np.mean(boot_data), scale = np.std(boot_data))\n",
    "    p_2 = norm.cdf(x = 0, loc = -np.mean(boot_data), scale = np.std(boot_data))\n",
    "    p_value = min(p_1, p_2) * 2\n",
    "        \n",
    "    # Визуализация\n",
    "    plt.hist(pd_boot_data[0], bins = 50)\n",
    "    \n",
    "    plt.style.use('ggplot')\n",
    "    plt.vlines(ci,ymin=0,ymax=50,linestyle='--')\n",
    "    plt.xlabel('boot_data')\n",
    "    plt.ylabel('frequency')\n",
    "    plt.title(\"Histogram of boot_data\")\n",
    "    plt.show()\n",
    "    \n",
    "       \n",
    "    return {\"boot_data\": boot_data, \n",
    "            \"ci\": ci, \n",
    "            \"p_value\": p_value}"
   ]
  },
  {
   "cell_type": "code",
   "execution_count": 27,
   "metadata": {
    "scrolled": false
   },
   "outputs": [
    {
     "data": {
      "image/png": "[encoded data removed]",
      "text/plain": [
       "<Figure size 432x288 with 1 Axes>"
      ]
     },
     "metadata": {},
     "output_type": "display_data"
    }
   ],
   "source": [
    "booted_data_rev = get_bootstrap(x, y, boot_it = 2000) \n",
    "\n",
    "# среднее по значениям Rev\n",
    "# в результате хранится разница двух распределений, доверительный интервал и p-value"
   ]
  },
  {
   "cell_type": "code",
   "execution_count": 29,
   "metadata": {},
   "outputs": [
    {
     "name": "stdout",
     "output_type": "stream",
     "text": [
      "Н0: новый механизм оплаты не оказывает эффекта на среднее rev\n",
      "p_value = 0.034904250773044404. Отклоняем Н0\n"
     ]
    }
   ],
   "source": [
    "p_value=booted_data_rev[\"p_value\"]\n",
    "print('Н0: новый механизм оплаты не оказывает эффекта на среднее rev')\n",
    "\n",
    "if p_value < alpha:\n",
    "    print('p_value = {}. Отклоняем Н0'.format(p_value))\n",
    "else:\n",
    "    print('p_value =  {}. Нет оснований отклонять Н0'.format(p_value))\n"
   ]
  },
  {
   "cell_type": "code",
   "execution_count": 30,
   "metadata": {},
   "outputs": [
    {
     "data": {
      "text/html": [
       "<div>\n",
       "<style scoped>\n",
       "    .dataframe tbody tr th:only-of-type {\n",
       "        vertical-align: middle;\n",
       "    }\n",
       "\n",
       "    .dataframe tbody tr th {\n",
       "        vertical-align: top;\n",
       "    }\n",
       "\n",
       "    .dataframe thead th {\n",
       "        text-align: right;\n",
       "    }\n",
       "</style>\n",
       "<table border=\"1\" class=\"dataframe\">\n",
       "  <thead>\n",
       "    <tr style=\"text-align: right;\">\n",
       "      <th></th>\n",
       "      <th>0</th>\n",
       "    </tr>\n",
       "  </thead>\n",
       "  <tbody>\n",
       "    <tr>\n",
       "      <th>0.025</th>\n",
       "      <td>-20.929554</td>\n",
       "    </tr>\n",
       "    <tr>\n",
       "      <th>0.975</th>\n",
       "      <td>-1.270752</td>\n",
       "    </tr>\n",
       "  </tbody>\n",
       "</table>\n",
       "</div>"
      ],
      "text/plain": [
       "               0\n",
       "0.025 -20.929554\n",
       "0.975  -1.270752"
      ]
     },
     "execution_count": 30,
     "metadata": {},
     "output_type": "execute_result"
    }
   ],
   "source": [
    "booted_data_rev[\"ci\"]"
   ]
  },
  {
   "cell_type": "code",
   "execution_count": 31,
   "metadata": {},
   "outputs": [
    {
     "data": {
      "image/png": "[encoded data removed]",
      "text/plain": [
       "<Figure size 432x288 with 1 Axes>"
      ]
     },
     "metadata": {},
     "output_type": "display_data"
    }
   ],
   "source": [
    "booted_data_CR = get_bootstrap(a, b, boot_it = 2000) \n",
    "\n",
    "\n",
    "# среднее по значениям Fact\n",
    "# в результате хранится разница двух распределений, доверительный интервал и p-value"
   ]
  },
  {
   "cell_type": "code",
   "execution_count": 32,
   "metadata": {},
   "outputs": [
    {
     "name": "stdout",
     "output_type": "stream",
     "text": [
      "Н0: новый механизм оплаты не оказывает эффекта на CR\n",
      "p_value =  0.21829796873861163. Нет оснований отклонять Н0\n"
     ]
    }
   ],
   "source": [
    "p_value=booted_data_CR[\"p_value\"]\n",
    "print('Н0: новый механизм оплаты не оказывает эффекта на CR')\n",
    "\n",
    "if p_value < alpha:\n",
    "    print('p_value = {}. Отклоняем Н0'.format(p_value))\n",
    "else:\n",
    "    print('p_value =  {}. Нет оснований отклонять Н0'.format(p_value))\n"
   ]
  },
  {
   "cell_type": "code",
   "execution_count": 33,
   "metadata": {
    "scrolled": true
   },
   "outputs": [
    {
     "data": {
      "text/html": [
       "<div>\n",
       "<style scoped>\n",
       "    .dataframe tbody tr th:only-of-type {\n",
       "        vertical-align: middle;\n",
       "    }\n",
       "\n",
       "    .dataframe tbody tr th {\n",
       "        vertical-align: top;\n",
       "    }\n",
       "\n",
       "    .dataframe thead th {\n",
       "        text-align: right;\n",
       "    }\n",
       "</style>\n",
       "<table border=\"1\" class=\"dataframe\">\n",
       "  <thead>\n",
       "    <tr style=\"text-align: right;\">\n",
       "      <th></th>\n",
       "      <th>0</th>\n",
       "    </tr>\n",
       "  </thead>\n",
       "  <tbody>\n",
       "    <tr>\n",
       "      <th>0.025</th>\n",
       "      <td>-0.002646</td>\n",
       "    </tr>\n",
       "    <tr>\n",
       "      <th>0.975</th>\n",
       "      <td>0.011907</td>\n",
       "    </tr>\n",
       "  </tbody>\n",
       "</table>\n",
       "</div>"
      ],
      "text/plain": [
       "              0\n",
       "0.025 -0.002646\n",
       "0.975  0.011907"
      ]
     },
     "execution_count": 33,
     "metadata": {},
     "output_type": "execute_result"
    }
   ],
   "source": [
    "booted_data_CR[\"ci\"]"
   ]
  },
  {
   "cell_type": "code",
   "execution_count": 34,
   "metadata": {},
   "outputs": [],
   "source": [
    "# Таким образом, после применения bootstrap \n",
    "# Н0: новый механизм оплаты не оказывает эффекта на CR - Нет оснований отклонять\n",
    "# Н0: новый механизм оплаты не оказывает эффекта на среднее rev - отклоняется\n",
    "# Можно было бы предположить, что новый механизм оплаты оказывает эффект на среднее rev. \n",
    "# Но если рассуждать логически: как может механизм оплаты повлиять на среднюю величину оплаты пользователей?\n",
    "\n",
    "# 1) Судя по scatterplot для группы \"В\" новый механизм мог дать сбой и у пользователей отобразилась оплата \n",
    "# в размере 1900 и 1900.0001, что естетственно повлияло на результаты исследования. В данном случае выкатывать обновление не стоит.\n",
    "# 2) По условию не раскрыта суть \"нового механизма оплаты\". Здесь остается только фантазировать. \n",
    "# Возможно новый механизм предусматривал какое-нибудь акционное предложение (как раз на сумму 1900) и в таком случае, \n",
    "# среднее rev объективно увеличивается и стоит выкатывать обновление.\n",
    "# 3) Возможно существует еще один фактор (который мы не знаем), который мог оказать эффект на среднее rev. \n",
    "# Но в таком случае изменение величины среднего rev не зависит от нового механизма оплаты.\n",
    "\n",
    "# Подводем итог вышеизложенного. Мы не можем утверждать, что новый механизм оплаты оказывает эффект на CR пользователей. \n",
    "# Также исходя из здравого смысла и отсутствия уточняющих данных принимается решение, что новый механизм оплаты так же\n",
    "# не оказывает нужного положительного эффекта и на среднее rev. \n",
    "# В связи с этим принимается решение НЕ выкатывать обновление."
   ]
  },
  {
   "cell_type": "markdown",
   "metadata": {},
   "source": [
    "# Задание 2. SQL\n",
    "\n",
    "## 2.1 Очень усердные ученики.\n",
    "\n",
    "### 2.1.1 Условие\n",
    "\n",
    "Образовательные курсы состоят из различных уроков, каждый из которых состоит из нескольких маленьких заданий. Каждое такое маленькое задание называется \"горошиной\".\n",
    "Назовём очень усердным учеником того пользователя, который хотя бы раз за текущий месяц правильно решил 20 горошин.\n",
    "\n",
    "### 2.1.2 Задача\n",
    "\n",
    "Необходимо написать оптимальный запрос, который даст информацию о количестве очень усердных студентов.\n",
    "NB! Под усердным студентом мы понимаем студента, который правильно решил 20 задач за текущий месяц."
   ]
  },
  {
   "cell_type": "code",
   "execution_count": 36,
   "metadata": {},
   "outputs": [],
   "source": [
    "# создаем подключение к clickhouse\n",
    "connection =  {'host': 'http://clickhouse.beslan.pro:8080',\n",
    "                      'database':'default',\n",
    "                      'user':'student', \n",
    "                      'password':'dpo_python_2020'\n",
    "                     } "
   ]
  },
  {
   "cell_type": "code",
   "execution_count": 37,
   "metadata": {},
   "outputs": [
    {
     "data": {
      "text/html": [
       "<div>\n",
       "<style scoped>\n",
       "    .dataframe tbody tr th:only-of-type {\n",
       "        vertical-align: middle;\n",
       "    }\n",
       "\n",
       "    .dataframe tbody tr th {\n",
       "        vertical-align: top;\n",
       "    }\n",
       "\n",
       "    .dataframe thead th {\n",
       "        text-align: right;\n",
       "    }\n",
       "</style>\n",
       "<table border=\"1\" class=\"dataframe\">\n",
       "  <thead>\n",
       "    <tr style=\"text-align: right;\">\n",
       "      <th></th>\n",
       "      <th>st_id</th>\n",
       "      <th>timest</th>\n",
       "      <th>correct</th>\n",
       "      <th>subject</th>\n",
       "    </tr>\n",
       "  </thead>\n",
       "  <tbody>\n",
       "    <tr>\n",
       "      <th>0</th>\n",
       "      <td>100379</td>\n",
       "      <td>2021-10-30 13:32:29</td>\n",
       "      <td>1</td>\n",
       "      <td>Theory of probability</td>\n",
       "    </tr>\n",
       "    <tr>\n",
       "      <th>1</th>\n",
       "      <td>100379</td>\n",
       "      <td>2021-10-30 14:11:19</td>\n",
       "      <td>0</td>\n",
       "      <td>Vizualization</td>\n",
       "    </tr>\n",
       "    <tr>\n",
       "      <th>2</th>\n",
       "      <td>100379</td>\n",
       "      <td>2021-10-30 15:54:22</td>\n",
       "      <td>1</td>\n",
       "      <td>Theory of probability</td>\n",
       "    </tr>\n",
       "    <tr>\n",
       "      <th>3</th>\n",
       "      <td>100379</td>\n",
       "      <td>2021-10-30 16:44:50</td>\n",
       "      <td>1</td>\n",
       "      <td>Vizualization</td>\n",
       "    </tr>\n",
       "    <tr>\n",
       "      <th>4</th>\n",
       "      <td>100379</td>\n",
       "      <td>2021-10-30 17:15:05</td>\n",
       "      <td>1</td>\n",
       "      <td>Theory of probability</td>\n",
       "    </tr>\n",
       "  </tbody>\n",
       "</table>\n",
       "</div>"
      ],
      "text/plain": [
       "    st_id              timest  correct                subject\n",
       "0  100379 2021-10-30 13:32:29        1  Theory of probability\n",
       "1  100379 2021-10-30 14:11:19        0          Vizualization\n",
       "2  100379 2021-10-30 15:54:22        1  Theory of probability\n",
       "3  100379 2021-10-30 16:44:50        1          Vizualization\n",
       "4  100379 2021-10-30 17:15:05        1  Theory of probability"
      ]
     },
     "execution_count": 37,
     "metadata": {},
     "output_type": "execute_result"
    }
   ],
   "source": [
    "query = '''\n",
    "SELECT st_id, toDateTime(timest) as timest, correct, subject\n",
    "FROM peas\n",
    "'''\n",
    "df_peas = ph.read_clickhouse(query=query, connection=connection)\n",
    "df_peas.head()\n",
    "\n",
    "#смотрим, что за данные в таблице peas"
   ]
  },
  {
   "cell_type": "code",
   "execution_count": 38,
   "metadata": {},
   "outputs": [
    {
     "data": {
      "text/html": [
       "<div>\n",
       "<style scoped>\n",
       "    .dataframe tbody tr th:only-of-type {\n",
       "        vertical-align: middle;\n",
       "    }\n",
       "\n",
       "    .dataframe tbody tr th {\n",
       "        vertical-align: top;\n",
       "    }\n",
       "\n",
       "    .dataframe thead th {\n",
       "        text-align: right;\n",
       "    }\n",
       "</style>\n",
       "<table border=\"1\" class=\"dataframe\">\n",
       "  <thead>\n",
       "    <tr style=\"text-align: right;\">\n",
       "      <th></th>\n",
       "      <th>MIN</th>\n",
       "      <th>MAX</th>\n",
       "    </tr>\n",
       "  </thead>\n",
       "  <tbody>\n",
       "    <tr>\n",
       "      <th>0</th>\n",
       "      <td>2021-10-30 13:00:00</td>\n",
       "      <td>2021-10-31 17:29:52</td>\n",
       "    </tr>\n",
       "  </tbody>\n",
       "</table>\n",
       "</div>"
      ],
      "text/plain": [
       "                  MIN                 MAX\n",
       "0 2021-10-30 13:00:00 2021-10-31 17:29:52"
      ]
     },
     "execution_count": 38,
     "metadata": {},
     "output_type": "execute_result"
    }
   ],
   "source": [
    "query = '''\n",
    "SELECT\n",
    "    MIN(toDateTime(timest)) AS MIN,\n",
    "    MAX(toDateTime(timest)) AS MAX\n",
    "FROM peas\n",
    "\n",
    "'''\n",
    "df_time = ph.read_clickhouse(query=query, connection=connection)\n",
    "df_time\n",
    "\n",
    "# смотрим за какой промежуток времени данные"
   ]
  },
  {
   "cell_type": "code",
   "execution_count": 39,
   "metadata": {},
   "outputs": [],
   "source": [
    "# \"Назовём очень усердным учеником того пользователя, который хотя бы раз за текущий месяц правильно решил 20 горошин.\"\n",
    "\n",
    "# То есть по идеи нам даже не надо группировать по месяцам, потому что все данные представлены за 2 дня…\n",
    "# однако возникает вопрос. Усердный - это когда всего (в сумме по всем предметам) решил правильно 20 горошин?\n",
    "# Или же усердный - это когда есть хотя бы один предмет, в котором решил правильно 20 горошин?\n",
    "# так как по условию не очень понятно, то дадим ответ на оба вопроса."
   ]
  },
  {
   "cell_type": "code",
   "execution_count": 40,
   "metadata": {},
   "outputs": [
    {
     "data": {
      "text/html": [
       "<div>\n",
       "<style scoped>\n",
       "    .dataframe tbody tr th:only-of-type {\n",
       "        vertical-align: middle;\n",
       "    }\n",
       "\n",
       "    .dataframe tbody tr th {\n",
       "        vertical-align: top;\n",
       "    }\n",
       "\n",
       "    .dataframe thead th {\n",
       "        text-align: right;\n",
       "    }\n",
       "</style>\n",
       "<table border=\"1\" class=\"dataframe\">\n",
       "  <thead>\n",
       "    <tr style=\"text-align: right;\">\n",
       "      <th></th>\n",
       "      <th>num_of_st</th>\n",
       "    </tr>\n",
       "  </thead>\n",
       "  <tbody>\n",
       "    <tr>\n",
       "      <th>0</th>\n",
       "      <td>136</td>\n",
       "    </tr>\n",
       "  </tbody>\n",
       "</table>\n",
       "</div>"
      ],
      "text/plain": [
       "   num_of_st\n",
       "0        136"
      ]
     },
     "execution_count": 40,
     "metadata": {},
     "output_type": "execute_result"
    }
   ],
   "source": [
    "query = '''\n",
    "SELECT \n",
    "    COUNT (DISTINCT st_id) AS num_of_st\n",
    "FROM (\n",
    "    SELECT\n",
    "        st_id,\n",
    "        SUM (correct) AS common_corr\n",
    "    FROM default.peas\n",
    "    GROUP BY st_id)\n",
    "WHERE common_corr >=20\n",
    "\n",
    "\n",
    "'''\n",
    "\n",
    "df_peas_1 = ph.read_clickhouse(query=query, connection=connection)\n",
    "df_peas_1\n",
    "\n",
    "# Ответ: 136 студентов решили более 20 горошин за месяц. (не важно: за один предмет или в сумме за разные)"
   ]
  },
  {
   "cell_type": "code",
   "execution_count": 41,
   "metadata": {
    "scrolled": true
   },
   "outputs": [
    {
     "data": {
      "text/html": [
       "<div>\n",
       "<style scoped>\n",
       "    .dataframe tbody tr th:only-of-type {\n",
       "        vertical-align: middle;\n",
       "    }\n",
       "\n",
       "    .dataframe tbody tr th {\n",
       "        vertical-align: top;\n",
       "    }\n",
       "\n",
       "    .dataframe thead th {\n",
       "        text-align: right;\n",
       "    }\n",
       "</style>\n",
       "<table border=\"1\" class=\"dataframe\">\n",
       "  <thead>\n",
       "    <tr style=\"text-align: right;\">\n",
       "      <th></th>\n",
       "      <th>num_of_st</th>\n",
       "    </tr>\n",
       "  </thead>\n",
       "  <tbody>\n",
       "    <tr>\n",
       "      <th>0</th>\n",
       "      <td>78</td>\n",
       "    </tr>\n",
       "  </tbody>\n",
       "</table>\n",
       "</div>"
      ],
      "text/plain": [
       "   num_of_st\n",
       "0         78"
      ]
     },
     "execution_count": 41,
     "metadata": {},
     "output_type": "execute_result"
    }
   ],
   "source": [
    "query = '''\n",
    "SELECT \n",
    "    COUNT (DISTINCT st_id) AS num_of_st\n",
    "FROM (\n",
    "    SELECT\n",
    "      st_id,\n",
    "      subject,\n",
    "      SUM(correct) AS common_corr\n",
    "    FROM default.peas\n",
    "    GROUP BY (subject, st_id)) \n",
    "WHERE common_corr>=20\n",
    "\n",
    "'''\n",
    "df_peas_2 = ph.read_clickhouse(query=query, connection=connection)\n",
    "df_peas_2\n",
    "\n",
    "# Ответ: 78 студентов решили более 20 горошин за месяц. (т.е. 20 и больше за один предмет)"
   ]
  },
  {
   "cell_type": "markdown",
   "metadata": {},
   "source": [
    "## 2.2 Оптимизация воронки\n",
    "\n",
    "### 2.2.1 Условие\n",
    "\n",
    "Образовательная платформа предлагает пройти студентам курсы по модели trial: студент может решить бесплатно лишь 30 горошин в день. Для неограниченного количества заданий в определенной дисциплине студенту необходимо приобрести полный доступ. Команда провела эксперимент, где был протестирован новый экран оплаты.\n",
    "\n",
    "Необходимо в одном запросе выгрузить следующую информацию о группах пользователей:\n",
    "\n",
    "* ARPU \n",
    "* ARPAU \n",
    "* CR в покупку \n",
    "* СR активного пользователя в покупку \n",
    "* CR пользователя из активности по математике (subject = ’math’) в покупку курса по математике\n",
    "* ARPU считается относительно всех пользователей, попавших в группы.\n",
    "\n",
    "Активным считается пользователь, за все время решивший больше 10 задач правильно в любых дисциплинах.\n",
    "Активным по математике считается пользователь, за все время решивший 2 или больше задач правильно по математике."
   ]
  },
  {
   "cell_type": "code",
   "execution_count": 43,
   "metadata": {},
   "outputs": [
    {
     "data": {
      "text/html": [
       "<div>\n",
       "<style scoped>\n",
       "    .dataframe tbody tr th:only-of-type {\n",
       "        vertical-align: middle;\n",
       "    }\n",
       "\n",
       "    .dataframe tbody tr th {\n",
       "        vertical-align: top;\n",
       "    }\n",
       "\n",
       "    .dataframe thead th {\n",
       "        text-align: right;\n",
       "    }\n",
       "</style>\n",
       "<table border=\"1\" class=\"dataframe\">\n",
       "  <thead>\n",
       "    <tr style=\"text-align: right;\">\n",
       "      <th></th>\n",
       "      <th>st_id</th>\n",
       "      <th>test_grp</th>\n",
       "    </tr>\n",
       "  </thead>\n",
       "  <tbody>\n",
       "    <tr>\n",
       "      <th>0</th>\n",
       "      <td>100379</td>\n",
       "      <td>pilot</td>\n",
       "    </tr>\n",
       "    <tr>\n",
       "      <th>1</th>\n",
       "      <td>101432</td>\n",
       "      <td>control</td>\n",
       "    </tr>\n",
       "    <tr>\n",
       "      <th>2</th>\n",
       "      <td>104818</td>\n",
       "      <td>pilot</td>\n",
       "    </tr>\n",
       "    <tr>\n",
       "      <th>3</th>\n",
       "      <td>104885</td>\n",
       "      <td>pilot</td>\n",
       "    </tr>\n",
       "    <tr>\n",
       "      <th>4</th>\n",
       "      <td>104966</td>\n",
       "      <td>pilot</td>\n",
       "    </tr>\n",
       "  </tbody>\n",
       "</table>\n",
       "</div>"
      ],
      "text/plain": [
       "    st_id test_grp\n",
       "0  100379    pilot\n",
       "1  101432  control\n",
       "2  104818    pilot\n",
       "3  104885    pilot\n",
       "4  104966    pilot"
      ]
     },
     "execution_count": 43,
     "metadata": {},
     "output_type": "execute_result"
    }
   ],
   "source": [
    "query = '''\n",
    "SELECT *\n",
    "FROM studs\n",
    "'''\n",
    "df_studs = ph.read_clickhouse(query=query, connection=connection)\n",
    "df_studs.head()\n",
    "\n",
    "#смотрим, что за данные в таблице studs"
   ]
  },
  {
   "cell_type": "code",
   "execution_count": 44,
   "metadata": {},
   "outputs": [
    {
     "data": {
      "text/html": [
       "<div>\n",
       "<style scoped>\n",
       "    .dataframe tbody tr th:only-of-type {\n",
       "        vertical-align: middle;\n",
       "    }\n",
       "\n",
       "    .dataframe tbody tr th {\n",
       "        vertical-align: top;\n",
       "    }\n",
       "\n",
       "    .dataframe thead th {\n",
       "        text-align: right;\n",
       "    }\n",
       "</style>\n",
       "<table border=\"1\" class=\"dataframe\">\n",
       "  <thead>\n",
       "    <tr style=\"text-align: right;\">\n",
       "      <th></th>\n",
       "      <th>st_id</th>\n",
       "      <th>sale_time</th>\n",
       "      <th>money</th>\n",
       "      <th>new_subject</th>\n",
       "    </tr>\n",
       "  </thead>\n",
       "  <tbody>\n",
       "    <tr>\n",
       "      <th>0</th>\n",
       "      <td>101432</td>\n",
       "      <td>2021-10-31 04:44:32</td>\n",
       "      <td>85000</td>\n",
       "      <td>Math</td>\n",
       "    </tr>\n",
       "    <tr>\n",
       "      <th>1</th>\n",
       "      <td>101432</td>\n",
       "      <td>2021-10-31 12:43:50</td>\n",
       "      <td>65000</td>\n",
       "      <td>Vizualization</td>\n",
       "    </tr>\n",
       "    <tr>\n",
       "      <th>2</th>\n",
       "      <td>104885</td>\n",
       "      <td>2021-10-30 17:05:55</td>\n",
       "      <td>65000</td>\n",
       "      <td>Vizualization</td>\n",
       "    </tr>\n",
       "    <tr>\n",
       "      <th>3</th>\n",
       "      <td>104885</td>\n",
       "      <td>2021-10-30 22:49:33</td>\n",
       "      <td>75000</td>\n",
       "      <td>Statistics</td>\n",
       "    </tr>\n",
       "    <tr>\n",
       "      <th>4</th>\n",
       "      <td>106464</td>\n",
       "      <td>2021-10-31 13:17:13</td>\n",
       "      <td>85000</td>\n",
       "      <td>Math</td>\n",
       "    </tr>\n",
       "  </tbody>\n",
       "</table>\n",
       "</div>"
      ],
      "text/plain": [
       "    st_id           sale_time  money    new_subject\n",
       "0  101432 2021-10-31 04:44:32  85000           Math\n",
       "1  101432 2021-10-31 12:43:50  65000  Vizualization\n",
       "2  104885 2021-10-30 17:05:55  65000  Vizualization\n",
       "3  104885 2021-10-30 22:49:33  75000     Statistics\n",
       "4  106464 2021-10-31 13:17:13  85000           Math"
      ]
     },
     "execution_count": 44,
     "metadata": {},
     "output_type": "execute_result"
    }
   ],
   "source": [
    "query = '''\n",
    "SELECT \n",
    "    st_id,\n",
    "    toDateTime(sale_time) as sale_time,\n",
    "    money,\n",
    "    subject as new_subject\n",
    "FROM final_project_check\n",
    "\n",
    "\n",
    "'''\n",
    "df_fpc = ph.read_clickhouse(query=query, connection=connection)\n",
    "df_fpc.head()\n",
    "\n",
    "# смотрим, что за данные в таблице final_project_check\n",
    "# обращаем внимание, что в разных таблицах есть колонки \"subject\", которые несут разный смысл. Поэтому переименуем тут колонку"
   ]
  },
  {
   "cell_type": "code",
   "execution_count": 45,
   "metadata": {
    "scrolled": true
   },
   "outputs": [
    {
     "data": {
      "text/html": [
       "<div>\n",
       "<style scoped>\n",
       "    .dataframe tbody tr th:only-of-type {\n",
       "        vertical-align: middle;\n",
       "    }\n",
       "\n",
       "    .dataframe tbody tr th {\n",
       "        vertical-align: top;\n",
       "    }\n",
       "\n",
       "    .dataframe thead th {\n",
       "        text-align: right;\n",
       "    }\n",
       "</style>\n",
       "<table border=\"1\" class=\"dataframe\">\n",
       "  <thead>\n",
       "    <tr style=\"text-align: right;\">\n",
       "      <th></th>\n",
       "      <th>test_grp</th>\n",
       "      <th>ARPU</th>\n",
       "      <th>ARPAU</th>\n",
       "      <th>CR</th>\n",
       "      <th>CR_act_student</th>\n",
       "      <th>CR_math</th>\n",
       "    </tr>\n",
       "  </thead>\n",
       "  <tbody>\n",
       "    <tr>\n",
       "      <th>0</th>\n",
       "      <td>control</td>\n",
       "      <td>4540.983607</td>\n",
       "      <td>11737.288136</td>\n",
       "      <td>4.918033</td>\n",
       "      <td>11.016949</td>\n",
       "      <td>6.122449</td>\n",
       "    </tr>\n",
       "    <tr>\n",
       "      <th>1</th>\n",
       "      <td>pilot</td>\n",
       "      <td>11508.474576</td>\n",
       "      <td>37307.692308</td>\n",
       "      <td>10.847458</td>\n",
       "      <td>25.274725</td>\n",
       "      <td>9.523810</td>\n",
       "    </tr>\n",
       "  </tbody>\n",
       "</table>\n",
       "</div>"
      ],
      "text/plain": [
       "  test_grp          ARPU         ARPAU         CR  CR_act_student   CR_math\n",
       "0  control   4540.983607  11737.288136   4.918033       11.016949  6.122449\n",
       "1    pilot  11508.474576  37307.692308  10.847458       25.274725  9.523810"
      ]
     },
     "execution_count": 45,
     "metadata": {},
     "output_type": "execute_result"
    }
   ],
   "source": [
    "query = '''\n",
    "\n",
    "SELECT\n",
    "test_grp,\n",
    "SUM_money/uniq_student AS ARPU,\n",
    "SUM_money/act_student AS ARPAU,\n",
    "(pay_student/uniq_student*100) AS CR,\n",
    "(act_pay_student/act_student*100) AS CR_act_student,\n",
    "(act_math_pay_student/act_math_student*100) AS CR_math\n",
    "\n",
    "\n",
    "FROM\n",
    "\n",
    "(SELECT act_student, test_grp, act_pay_student, pay_student, SUM_money, uniq_student, act_math_student, act_math_pay_student\n",
    "FROM\n",
    "(SELECT act_student, test_grp, act_pay_student, pay_student, SUM_money, uniq_student, act_math_student\n",
    "FROM\n",
    "(SELECT act_student, test_grp, act_pay_student, pay_student, SUM_money, uniq_student\n",
    "FROM\n",
    "(SELECT act_student, test_grp, act_pay_student, pay_student\n",
    "FROM\n",
    "(SELECT act_student, Z.test_grp, act_pay_student\n",
    "FROM \n",
    "(SELECT \n",
    "COUNT (DISTINCT st_id) AS act_student,\n",
    "test_grp\n",
    "FROM\n",
    "(SELECT \n",
    "    coalesce ((CASE WHEN empty(st_id) THEN null ELSE st_id END), D.st_id) AS st_id, \n",
    "    coalesce ((CASE WHEN empty(subject) THEN null ELSE subject END), D.subject) AS demo_subject,\n",
    "    common_corr,\n",
    "    coalesce (D.money,0) AS money,\n",
    "    D.subject as new_subject,\n",
    "    test_grp\n",
    "FROM\n",
    "    (SELECT B.st_id as st_id, common_corr, subject, test_grp\n",
    "    FROM    \n",
    "        (SELECT\n",
    "            st_id,\n",
    "            SUM(correct) AS common_corr,\n",
    "            subject\n",
    "        FROM default.peas\n",
    "        GROUP BY (st_id, subject)) AS A\n",
    "        FULL JOIN default.studs AS B\n",
    "        ON A.st_id=B.st_id) AS C\n",
    "    LEFT JOIN default.final_project_check AS D\n",
    "    ON C.st_id=D.st_id\n",
    "    WHERE common_corr>10)\n",
    "    GROUP BY test_grp) AS Z\n",
    "    \n",
    "FULL JOIN \n",
    "\n",
    "(\n",
    "SELECT \n",
    "COUNT (DISTINCT st_id) AS act_pay_student,\n",
    "test_grp\n",
    "FROM\n",
    "(SELECT \n",
    "    coalesce ((CASE WHEN empty(st_id) THEN null ELSE st_id END), D.st_id) AS st_id, \n",
    "    coalesce ((CASE WHEN empty(subject) THEN null ELSE subject END), D.subject) AS demo_subject,\n",
    "    common_corr,\n",
    "    coalesce (D.money,0) AS money,\n",
    "    D.subject as new_subject,\n",
    "    test_grp\n",
    "FROM\n",
    "    (SELECT B.st_id as st_id, common_corr, subject, test_grp\n",
    "    FROM    \n",
    "        (SELECT\n",
    "            st_id,\n",
    "            SUM(correct) AS common_corr,\n",
    "            subject\n",
    "        FROM default.peas\n",
    "        GROUP BY (st_id, subject)) AS A\n",
    "        FULL JOIN default.studs AS B\n",
    "        ON A.st_id=B.st_id) AS C\n",
    "    LEFT JOIN default.final_project_check AS D\n",
    "    ON C.st_id=D.st_id\n",
    "    WHERE common_corr>10 and money>0)\n",
    "    GROUP BY test_grp\n",
    ") AS Y\n",
    "ON Z.test_grp=Y.test_grp) AS X\n",
    "\n",
    "FULL JOIN\n",
    "\n",
    "(\n",
    "SELECT \n",
    "COUNT (DISTINCT st_id) AS pay_student,\n",
    "test_grp\n",
    "FROM\n",
    "(SELECT \n",
    "    coalesce ((CASE WHEN empty(st_id) THEN null ELSE st_id END), D.st_id) AS st_id, \n",
    "    coalesce ((CASE WHEN empty(subject) THEN null ELSE subject END), D.subject) AS demo_subject,\n",
    "    common_corr,\n",
    "    coalesce (D.money,0) AS money,\n",
    "    D.subject as new_subject,\n",
    "    test_grp\n",
    "FROM\n",
    "    (SELECT B.st_id as st_id, common_corr, subject, test_grp\n",
    "    FROM    \n",
    "        (SELECT\n",
    "            st_id,\n",
    "            SUM(correct) AS common_corr,\n",
    "            subject\n",
    "        FROM default.peas\n",
    "        GROUP BY (st_id, subject)) AS A\n",
    "        FULL JOIN default.studs AS B\n",
    "        ON A.st_id=B.st_id) AS C\n",
    "    LEFT JOIN default.final_project_check AS D\n",
    "    ON C.st_id=D.st_id\n",
    "    WHERE money>0)\n",
    "    GROUP BY test_grp\n",
    ") AS W\n",
    "ON X.test_grp=W.test_grp) AS V\n",
    "\n",
    "FULL JOIN\n",
    "\n",
    "(SELECT \n",
    "SUM(money) AS SUM_money,\n",
    "COUNT(DISTINCT st_id) AS uniq_student,\n",
    "test_grp\n",
    "FROM\n",
    "(SELECT \n",
    "    r.st_id AS st_id,\n",
    "    l.sale_time,\n",
    "    l.money,\n",
    "    l.subject,\n",
    "    r.test_grp\n",
    "FROM \n",
    "    default.final_project_check AS l \n",
    "    RIGHT JOIN default.studs AS r\n",
    "    ON l.st_id=r.st_id)\n",
    "GROUP BY test_grp) AS U\n",
    "ON V.test_grp=U.test_grp) AS T\n",
    "\n",
    "FULL JOIN\n",
    "\n",
    "(SELECT COUNT (DISTINCT st_id) AS act_math_student,\n",
    "test_grp\n",
    "FROM\n",
    "(SELECT \n",
    "    coalesce ((CASE WHEN empty(st_id) THEN null ELSE st_id END), D.st_id) AS st_id, \n",
    "    coalesce ((CASE WHEN empty(subject) THEN null ELSE subject END), D.subject) AS demo_subject,\n",
    "    common_corr,\n",
    "    coalesce (D.money,0) AS money,\n",
    "    D.subject as new_subject,\n",
    "    test_grp\n",
    "FROM\n",
    "    (SELECT B.st_id as st_id, common_corr, subject, test_grp\n",
    "    FROM    \n",
    "        (SELECT\n",
    "            st_id,\n",
    "            SUM(correct) AS common_corr,\n",
    "            subject\n",
    "        FROM default.peas\n",
    "        GROUP BY (st_id, subject)) AS A\n",
    "        FULL JOIN default.studs AS B\n",
    "        ON A.st_id=B.st_id) AS C\n",
    "    LEFT JOIN default.final_project_check AS D\n",
    "    ON C.st_id=D.st_id\n",
    "    WHERE common_corr>=2 and demo_subject='Math')\n",
    "    GROUP BY test_grp\n",
    ") AS S\n",
    "ON S.test_grp=T.test_grp) AS R\n",
    "\n",
    "FULL JOIN\n",
    "\n",
    "(SELECT COUNT (DISTINCT st_id) AS act_math_pay_student,\n",
    "test_grp\n",
    "FROM\n",
    "(SELECT \n",
    "    coalesce ((CASE WHEN empty(st_id) THEN null ELSE st_id END), D.st_id) AS st_id, \n",
    "    coalesce ((CASE WHEN empty(subject) THEN null ELSE subject END), D.subject) AS demo_subject,\n",
    "    common_corr,\n",
    "    coalesce (D.money,0) AS money,\n",
    "    D.subject as new_subject,\n",
    "    test_grp\n",
    "FROM\n",
    "    (SELECT B.st_id as st_id, common_corr, subject, test_grp\n",
    "    FROM    \n",
    "        (SELECT\n",
    "            st_id,\n",
    "            SUM(correct) AS common_corr,\n",
    "            subject\n",
    "        FROM default.peas\n",
    "        GROUP BY (st_id, subject)) AS A\n",
    "        FULL JOIN default.studs AS B\n",
    "        ON A.st_id=B.st_id) AS C\n",
    "    LEFT JOIN default.final_project_check AS D\n",
    "    ON C.st_id=D.st_id\n",
    "    WHERE common_corr>=2 and demo_subject='Math' and new_subject='Math' )\n",
    "    GROUP BY test_grp\n",
    ") AS Q\n",
    "ON R.test_grp=Q.test_grp)\n",
    "\n",
    "\n",
    "    '''\n",
    "dfdf = ph.read_clickhouse(query=query, connection=connection)\n",
    "dfdf\n",
    "\n",
    "#наверняка это можно было сделать в гораздо меньшее кол-во строк кода. "
   ]
  },
  {
   "cell_type": "markdown",
   "metadata": {},
   "source": [
    "# Задание 3. Python\n",
    "\n",
    "## 3.1 Задача\n",
    "\n",
    "Реализуйте функцию, которая будет автоматически подгружать информацию из дополнительного файла groups_add.csv (заголовки могут отличаться) и на основании дополнительных параметров пересчитывать метрики.\n"
   ]
  },
  {
   "cell_type": "code",
   "execution_count": 47,
   "metadata": {},
   "outputs": [],
   "source": [
    "def concat_group_add(file_url):\n",
    "    \n",
    "    def link(key): #функция для получения ссылок\n",
    "        base = 'https://cloud-api.yandex.net/v1/disk/public/resources/download?'\n",
    "        url = base + urlencode(dict(public_key=key))\n",
    "        response = requests.get(url)\n",
    "        return response.json()['href']\n",
    "\n",
    "    group_add = pd.read_csv(link( file_url ))\n",
    "    groups = pd.read_csv(link( 'https://disk.yandex.ru/d/58Us0DWOzuWAjg'), sep=';')\n",
    "    active_studs = pd.read_csv(link( 'https://disk.yandex.ru/d/prbgU-rZpiXVYg'), sep=';') \n",
    "    checks = pd.read_csv(link( 'https://disk.yandex.ru/d/84hTmELphW2sqQ'), sep=';') \n",
    "    \n",
    "    all_group=pd.concat([groups, group_add], ignore_index=True) # объединяем groups и group_add (аналогично заданию №1)\n",
    "\n",
    "    checks=checks.rename(columns={'student_id':'id'}) # переименовали student_id в id, чтобы избежать проблем с merge \n",
    "    active_studs=active_studs.rename(columns={'student_id':'id'})                          #(аналогично заданию №1)\n",
    "    \n",
    "    active_all_group = pd.merge(all_group, active_studs, how=\"right\", on=[\"id\"]) # применяем merge для всех ДФ, \n",
    "    common_info = pd.merge(active_all_group, checks, how=\"left\", on=[\"id\"]).fillna(0)\n",
    "    common_info['Fact'] = np.where(common_info['rev']>0, '1', '0') # создаю колонку Fact, чтобы отобразить 1 - если была оплата, 0 - если нет\n",
    "    common_info['Fact']=common_info['Fact'].astype (str).astype (int)\n",
    " \n",
    "    \n",
    "    # Найдем CR и  ARPU с разбивкой по группам (аналогично заданию №1)\n",
    "    metric = common_info\\\n",
    "        .groupby('grp', as_index=False)\\\n",
    "        .agg({'Fact':'mean', 'rev' : 'mean'})\\\n",
    "        .rename(columns={'Fact': 'CR', 'rev' : 'ARPU'})\n",
    "\n",
    "    # Переведем CR в проценты.\n",
    "    metric['CR'] = metric['CR'] * 100\n",
    "    \n",
    "    return metric"
   ]
  },
  {
   "cell_type": "code",
   "execution_count": 48,
   "metadata": {
    "scrolled": true
   },
   "outputs": [
    {
     "data": {
      "text/html": [
       "<div>\n",
       "<style scoped>\n",
       "    .dataframe tbody tr th:only-of-type {\n",
       "        vertical-align: middle;\n",
       "    }\n",
       "\n",
       "    .dataframe tbody tr th {\n",
       "        vertical-align: top;\n",
       "    }\n",
       "\n",
       "    .dataframe thead th {\n",
       "        text-align: right;\n",
       "    }\n",
       "</style>\n",
       "<table border=\"1\" class=\"dataframe\">\n",
       "  <thead>\n",
       "    <tr style=\"text-align: right;\">\n",
       "      <th></th>\n",
       "      <th>grp</th>\n",
       "      <th>CR</th>\n",
       "      <th>ARPU</th>\n",
       "    </tr>\n",
       "  </thead>\n",
       "  <tbody>\n",
       "    <tr>\n",
       "      <th>0</th>\n",
       "      <td>A</td>\n",
       "      <td>5.071521</td>\n",
       "      <td>47.347204</td>\n",
       "    </tr>\n",
       "    <tr>\n",
       "      <th>1</th>\n",
       "      <td>B</td>\n",
       "      <td>4.615611</td>\n",
       "      <td>58.058798</td>\n",
       "    </tr>\n",
       "  </tbody>\n",
       "</table>\n",
       "</div>"
      ],
      "text/plain": [
       "  grp        CR       ARPU\n",
       "0   A  5.071521  47.347204\n",
       "1   B  4.615611  58.058798"
      ]
     },
     "execution_count": 48,
     "metadata": {},
     "output_type": "execute_result"
    }
   ],
   "source": [
    "itog = concat_group_add('https://disk.yandex.ru/d/3aARY-P9pfaksg')\n",
    "itog"
   ]
  },
  {
   "cell_type": "markdown",
   "metadata": {},
   "source": [
    "## 3.2 Задача\n",
    "Реализуйте функцию, которая будет строить графики по получаемым метрикам."
   ]
  },
  {
   "cell_type": "code",
   "execution_count": 50,
   "metadata": {},
   "outputs": [],
   "source": [
    "def graphic(itog):\n",
    "    \n",
    "    # Задание настроек графика\n",
    "    sns.set(font_scale = 1, style=\"darkgrid\")\n",
    "    fig, axes = plt.subplots(2, figsize=(6, 10))\n",
    "    \n",
    "    # Рисуем график\n",
    "    sns.barplot(ax=axes[0], data=itog, x='grp', y='ARPU')\n",
    "    sns.barplot(ax=axes[1], data=itog, x='grp', y='CR')\n",
    "    "
   ]
  },
  {
   "cell_type": "code",
   "execution_count": 51,
   "metadata": {},
   "outputs": [
    {
     "data": {
      "image/png": "[encoded data removed]",
      "text/plain": [
       "<Figure size 432x720 with 2 Axes>"
      ]
     },
     "metadata": {},
     "output_type": "display_data"
    }
   ],
   "source": [
    "graphic(itog)"
   ]
  },
  {
   "cell_type": "code",
   "execution_count": 136,
   "metadata": {},
   "outputs": [],
   "source": [
    "# Остается нерешенным вопрос - надо ли было использовать group_add в 1 задании всего проекта? \n",
    "# для себя отвечу, что надо было. Иначе логичнее было бы вперые упомянуть эти данные в 3 задании, а не в 1.\n",
    "# Да и в принципе функция из 3 задания позволяет подгружать дополнительные данные. Кто знает сколько еще этих group_add будет..."
   ]
  },
  {
   "cell_type": "code",
   "execution_count": null,
   "metadata": {},
   "outputs": [],
   "source": []
  },
  {
   "cell_type": "code",
   "execution_count": null,
   "metadata": {},
   "outputs": [],
   "source": []
  }
 ],
 "metadata": {
  "kernelspec": {
   "display_name": "Python 3",
   "language": "python",
   "name": "python3"
  },
  "language_info": {
   "codemirror_mode": {
    "name": "ipython",
    "version": 3
   },
   "file_extension": ".py",
   "mimetype": "text/x-python",
   "name": "python",
   "nbconvert_exporter": "python",
   "pygments_lexer": "ipython3",
   "version": "3.7.3"
  }
 },
 "nbformat": 4,
 "nbformat_minor": 4
}
